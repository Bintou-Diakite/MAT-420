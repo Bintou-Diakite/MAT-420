{
  "nbformat": 4,
  "nbformat_minor": 0,
  "metadata": {
    "colab": {
      "provenance": []
    },
    "kernelspec": {
      "name": "python3",
      "display_name": "Python 3"
    },
    "language_info": {
      "name": "python"
    }
  },
  "cells": [
    {
      "cell_type": "code",
      "execution_count": 1,
      "metadata": {
        "id": "6vAILzD2rIty"
      },
      "outputs": [],
      "source": [
        "import numpy as np\n",
        "import matplotlib.pyplot as plt\n",
        "import torch\n",
        "import torch.nn as nn\n",
        "from sklearn import datasets\n",
        "from sklearn.model_selection import train_test_split\n",
        "import pandas as pd\n",
        "from sklearn.metrics import r2_score\n",
        "from sklearn.preprocessing import PolynomialFeatures\n",
        "from sklearn.linear_model import LinearRegression\n",
        "from sklearn.preprocessing import StandardScaler\n",
        "from sklearn.metrics import mean_squared_error, r2_score\n",
        "import warnings\n",
        "warnings.filterwarnings(\"ignore\")\n",
        "\n",
        "pd.options.display.float_format = '{:.3f}'.format"
      ]
    },
    {
      "cell_type": "code",
      "source": [
        "from google.colab import files\n",
        "uploaded = files.upload()\n",
        "import io\n",
        "df = pd.read_csv(io.BytesIO(uploaded['Walmart (1).csv']))\n",
        "print(df.head())"
      ],
      "metadata": {
        "colab": {
          "base_uri": "https://localhost:8080/",
          "height": 298
        },
        "id": "Qj07uyW-rQ-L",
        "outputId": "b19a83fa-b3eb-48da-e590-c16ccedb57ab"
      },
      "execution_count": 3,
      "outputs": [
        {
          "output_type": "display_data",
          "data": {
            "text/plain": [
              "<IPython.core.display.HTML object>"
            ],
            "text/html": [
              "\n",
              "     <input type=\"file\" id=\"files-713ebe6b-eba0-4bc5-b259-08c9a5edf9e8\" name=\"files[]\" multiple disabled\n",
              "        style=\"border:none\" />\n",
              "     <output id=\"result-713ebe6b-eba0-4bc5-b259-08c9a5edf9e8\">\n",
              "      Upload widget is only available when the cell has been executed in the\n",
              "      current browser session. Please rerun this cell to enable.\n",
              "      </output>\n",
              "      <script>// Copyright 2017 Google LLC\n",
              "//\n",
              "// Licensed under the Apache License, Version 2.0 (the \"License\");\n",
              "// you may not use this file except in compliance with the License.\n",
              "// You may obtain a copy of the License at\n",
              "//\n",
              "//      http://www.apache.org/licenses/LICENSE-2.0\n",
              "//\n",
              "// Unless required by applicable law or agreed to in writing, software\n",
              "// distributed under the License is distributed on an \"AS IS\" BASIS,\n",
              "// WITHOUT WARRANTIES OR CONDITIONS OF ANY KIND, either express or implied.\n",
              "// See the License for the specific language governing permissions and\n",
              "// limitations under the License.\n",
              "\n",
              "/**\n",
              " * @fileoverview Helpers for google.colab Python module.\n",
              " */\n",
              "(function(scope) {\n",
              "function span(text, styleAttributes = {}) {\n",
              "  const element = document.createElement('span');\n",
              "  element.textContent = text;\n",
              "  for (const key of Object.keys(styleAttributes)) {\n",
              "    element.style[key] = styleAttributes[key];\n",
              "  }\n",
              "  return element;\n",
              "}\n",
              "\n",
              "// Max number of bytes which will be uploaded at a time.\n",
              "const MAX_PAYLOAD_SIZE = 100 * 1024;\n",
              "\n",
              "function _uploadFiles(inputId, outputId) {\n",
              "  const steps = uploadFilesStep(inputId, outputId);\n",
              "  const outputElement = document.getElementById(outputId);\n",
              "  // Cache steps on the outputElement to make it available for the next call\n",
              "  // to uploadFilesContinue from Python.\n",
              "  outputElement.steps = steps;\n",
              "\n",
              "  return _uploadFilesContinue(outputId);\n",
              "}\n",
              "\n",
              "// This is roughly an async generator (not supported in the browser yet),\n",
              "// where there are multiple asynchronous steps and the Python side is going\n",
              "// to poll for completion of each step.\n",
              "// This uses a Promise to block the python side on completion of each step,\n",
              "// then passes the result of the previous step as the input to the next step.\n",
              "function _uploadFilesContinue(outputId) {\n",
              "  const outputElement = document.getElementById(outputId);\n",
              "  const steps = outputElement.steps;\n",
              "\n",
              "  const next = steps.next(outputElement.lastPromiseValue);\n",
              "  return Promise.resolve(next.value.promise).then((value) => {\n",
              "    // Cache the last promise value to make it available to the next\n",
              "    // step of the generator.\n",
              "    outputElement.lastPromiseValue = value;\n",
              "    return next.value.response;\n",
              "  });\n",
              "}\n",
              "\n",
              "/**\n",
              " * Generator function which is called between each async step of the upload\n",
              " * process.\n",
              " * @param {string} inputId Element ID of the input file picker element.\n",
              " * @param {string} outputId Element ID of the output display.\n",
              " * @return {!Iterable<!Object>} Iterable of next steps.\n",
              " */\n",
              "function* uploadFilesStep(inputId, outputId) {\n",
              "  const inputElement = document.getElementById(inputId);\n",
              "  inputElement.disabled = false;\n",
              "\n",
              "  const outputElement = document.getElementById(outputId);\n",
              "  outputElement.innerHTML = '';\n",
              "\n",
              "  const pickedPromise = new Promise((resolve) => {\n",
              "    inputElement.addEventListener('change', (e) => {\n",
              "      resolve(e.target.files);\n",
              "    });\n",
              "  });\n",
              "\n",
              "  const cancel = document.createElement('button');\n",
              "  inputElement.parentElement.appendChild(cancel);\n",
              "  cancel.textContent = 'Cancel upload';\n",
              "  const cancelPromise = new Promise((resolve) => {\n",
              "    cancel.onclick = () => {\n",
              "      resolve(null);\n",
              "    };\n",
              "  });\n",
              "\n",
              "  // Wait for the user to pick the files.\n",
              "  const files = yield {\n",
              "    promise: Promise.race([pickedPromise, cancelPromise]),\n",
              "    response: {\n",
              "      action: 'starting',\n",
              "    }\n",
              "  };\n",
              "\n",
              "  cancel.remove();\n",
              "\n",
              "  // Disable the input element since further picks are not allowed.\n",
              "  inputElement.disabled = true;\n",
              "\n",
              "  if (!files) {\n",
              "    return {\n",
              "      response: {\n",
              "        action: 'complete',\n",
              "      }\n",
              "    };\n",
              "  }\n",
              "\n",
              "  for (const file of files) {\n",
              "    const li = document.createElement('li');\n",
              "    li.append(span(file.name, {fontWeight: 'bold'}));\n",
              "    li.append(span(\n",
              "        `(${file.type || 'n/a'}) - ${file.size} bytes, ` +\n",
              "        `last modified: ${\n",
              "            file.lastModifiedDate ? file.lastModifiedDate.toLocaleDateString() :\n",
              "                                    'n/a'} - `));\n",
              "    const percent = span('0% done');\n",
              "    li.appendChild(percent);\n",
              "\n",
              "    outputElement.appendChild(li);\n",
              "\n",
              "    const fileDataPromise = new Promise((resolve) => {\n",
              "      const reader = new FileReader();\n",
              "      reader.onload = (e) => {\n",
              "        resolve(e.target.result);\n",
              "      };\n",
              "      reader.readAsArrayBuffer(file);\n",
              "    });\n",
              "    // Wait for the data to be ready.\n",
              "    let fileData = yield {\n",
              "      promise: fileDataPromise,\n",
              "      response: {\n",
              "        action: 'continue',\n",
              "      }\n",
              "    };\n",
              "\n",
              "    // Use a chunked sending to avoid message size limits. See b/62115660.\n",
              "    let position = 0;\n",
              "    do {\n",
              "      const length = Math.min(fileData.byteLength - position, MAX_PAYLOAD_SIZE);\n",
              "      const chunk = new Uint8Array(fileData, position, length);\n",
              "      position += length;\n",
              "\n",
              "      const base64 = btoa(String.fromCharCode.apply(null, chunk));\n",
              "      yield {\n",
              "        response: {\n",
              "          action: 'append',\n",
              "          file: file.name,\n",
              "          data: base64,\n",
              "        },\n",
              "      };\n",
              "\n",
              "      let percentDone = fileData.byteLength === 0 ?\n",
              "          100 :\n",
              "          Math.round((position / fileData.byteLength) * 100);\n",
              "      percent.textContent = `${percentDone}% done`;\n",
              "\n",
              "    } while (position < fileData.byteLength);\n",
              "  }\n",
              "\n",
              "  // All done.\n",
              "  yield {\n",
              "    response: {\n",
              "      action: 'complete',\n",
              "    }\n",
              "  };\n",
              "}\n",
              "\n",
              "scope.google = scope.google || {};\n",
              "scope.google.colab = scope.google.colab || {};\n",
              "scope.google.colab._files = {\n",
              "  _uploadFiles,\n",
              "  _uploadFilesContinue,\n",
              "};\n",
              "})(self);\n",
              "</script> "
            ]
          },
          "metadata": {}
        },
        {
          "output_type": "stream",
          "name": "stdout",
          "text": [
            "Saving Walmart.csv to Walmart (1).csv\n",
            "   Store        Date  Weekly_Sales  Holiday_Flag  Temperature  Fuel_Price  \\\n",
            "0      1  05-02-2010   1643690.900             0       42.310       2.572   \n",
            "1      1  12-02-2010   1641957.440             1       38.510       2.548   \n",
            "2      1  19-02-2010   1611968.170             0       39.930       2.514   \n",
            "3      1  26-02-2010   1409727.590             0       46.630       2.561   \n",
            "4      1  05-03-2010   1554806.680             0       46.500       2.625   \n",
            "\n",
            "      CPI  Unemployment  \n",
            "0 211.096         8.106  \n",
            "1 211.242         8.106  \n",
            "2 211.289         8.106  \n",
            "3 211.320         8.106  \n",
            "4 211.350         8.106  \n"
          ]
        }
      ]
    },
    {
      "cell_type": "code",
      "source": [
        "df.describe().T"
      ],
      "metadata": {
        "colab": {
          "base_uri": "https://localhost:8080/",
          "height": 269
        },
        "id": "jEjoJRY0rqZ8",
        "outputId": "ea68b0ec-b5b9-4fa4-90f7-39a03ec655ba"
      },
      "execution_count": 4,
      "outputs": [
        {
          "output_type": "execute_result",
          "data": {
            "text/plain": [
              "                count        mean        std        min        25%        50%  \\\n",
              "Store        6435.000      23.000     12.988      1.000     12.000     23.000   \n",
              "Weekly_Sales 6435.000 1046964.878 564366.622 209986.250 553350.105 960746.040   \n",
              "Holiday_Flag 6435.000       0.070      0.255      0.000      0.000      0.000   \n",
              "Temperature  6435.000      60.664     18.445     -2.060     47.460     62.670   \n",
              "Fuel_Price   6435.000       3.359      0.459      2.472      2.933      3.445   \n",
              "CPI          6435.000     171.578     39.357    126.064    131.735    182.617   \n",
              "Unemployment 6435.000       7.999      1.876      3.879      6.891      7.874   \n",
              "\n",
              "                     75%         max  \n",
              "Store             34.000      45.000  \n",
              "Weekly_Sales 1420158.660 3818686.450  \n",
              "Holiday_Flag       0.000       1.000  \n",
              "Temperature       74.940     100.140  \n",
              "Fuel_Price         3.735       4.468  \n",
              "CPI              212.743     227.233  \n",
              "Unemployment       8.622      14.313  "
            ],
            "text/html": [
              "\n",
              "  <div id=\"df-ec123843-1912-4543-b8b9-d5929871003f\" class=\"colab-df-container\">\n",
              "    <div>\n",
              "<style scoped>\n",
              "    .dataframe tbody tr th:only-of-type {\n",
              "        vertical-align: middle;\n",
              "    }\n",
              "\n",
              "    .dataframe tbody tr th {\n",
              "        vertical-align: top;\n",
              "    }\n",
              "\n",
              "    .dataframe thead th {\n",
              "        text-align: right;\n",
              "    }\n",
              "</style>\n",
              "<table border=\"1\" class=\"dataframe\">\n",
              "  <thead>\n",
              "    <tr style=\"text-align: right;\">\n",
              "      <th></th>\n",
              "      <th>count</th>\n",
              "      <th>mean</th>\n",
              "      <th>std</th>\n",
              "      <th>min</th>\n",
              "      <th>25%</th>\n",
              "      <th>50%</th>\n",
              "      <th>75%</th>\n",
              "      <th>max</th>\n",
              "    </tr>\n",
              "  </thead>\n",
              "  <tbody>\n",
              "    <tr>\n",
              "      <th>Store</th>\n",
              "      <td>6435.000</td>\n",
              "      <td>23.000</td>\n",
              "      <td>12.988</td>\n",
              "      <td>1.000</td>\n",
              "      <td>12.000</td>\n",
              "      <td>23.000</td>\n",
              "      <td>34.000</td>\n",
              "      <td>45.000</td>\n",
              "    </tr>\n",
              "    <tr>\n",
              "      <th>Weekly_Sales</th>\n",
              "      <td>6435.000</td>\n",
              "      <td>1046964.878</td>\n",
              "      <td>564366.622</td>\n",
              "      <td>209986.250</td>\n",
              "      <td>553350.105</td>\n",
              "      <td>960746.040</td>\n",
              "      <td>1420158.660</td>\n",
              "      <td>3818686.450</td>\n",
              "    </tr>\n",
              "    <tr>\n",
              "      <th>Holiday_Flag</th>\n",
              "      <td>6435.000</td>\n",
              "      <td>0.070</td>\n",
              "      <td>0.255</td>\n",
              "      <td>0.000</td>\n",
              "      <td>0.000</td>\n",
              "      <td>0.000</td>\n",
              "      <td>0.000</td>\n",
              "      <td>1.000</td>\n",
              "    </tr>\n",
              "    <tr>\n",
              "      <th>Temperature</th>\n",
              "      <td>6435.000</td>\n",
              "      <td>60.664</td>\n",
              "      <td>18.445</td>\n",
              "      <td>-2.060</td>\n",
              "      <td>47.460</td>\n",
              "      <td>62.670</td>\n",
              "      <td>74.940</td>\n",
              "      <td>100.140</td>\n",
              "    </tr>\n",
              "    <tr>\n",
              "      <th>Fuel_Price</th>\n",
              "      <td>6435.000</td>\n",
              "      <td>3.359</td>\n",
              "      <td>0.459</td>\n",
              "      <td>2.472</td>\n",
              "      <td>2.933</td>\n",
              "      <td>3.445</td>\n",
              "      <td>3.735</td>\n",
              "      <td>4.468</td>\n",
              "    </tr>\n",
              "    <tr>\n",
              "      <th>CPI</th>\n",
              "      <td>6435.000</td>\n",
              "      <td>171.578</td>\n",
              "      <td>39.357</td>\n",
              "      <td>126.064</td>\n",
              "      <td>131.735</td>\n",
              "      <td>182.617</td>\n",
              "      <td>212.743</td>\n",
              "      <td>227.233</td>\n",
              "    </tr>\n",
              "    <tr>\n",
              "      <th>Unemployment</th>\n",
              "      <td>6435.000</td>\n",
              "      <td>7.999</td>\n",
              "      <td>1.876</td>\n",
              "      <td>3.879</td>\n",
              "      <td>6.891</td>\n",
              "      <td>7.874</td>\n",
              "      <td>8.622</td>\n",
              "      <td>14.313</td>\n",
              "    </tr>\n",
              "  </tbody>\n",
              "</table>\n",
              "</div>\n",
              "    <div class=\"colab-df-buttons\">\n",
              "\n",
              "  <div class=\"colab-df-container\">\n",
              "    <button class=\"colab-df-convert\" onclick=\"convertToInteractive('df-ec123843-1912-4543-b8b9-d5929871003f')\"\n",
              "            title=\"Convert this dataframe to an interactive table.\"\n",
              "            style=\"display:none;\">\n",
              "\n",
              "  <svg xmlns=\"http://www.w3.org/2000/svg\" height=\"24px\" viewBox=\"0 -960 960 960\">\n",
              "    <path d=\"M120-120v-720h720v720H120Zm60-500h600v-160H180v160Zm220 220h160v-160H400v160Zm0 220h160v-160H400v160ZM180-400h160v-160H180v160Zm440 0h160v-160H620v160ZM180-180h160v-160H180v160Zm440 0h160v-160H620v160Z\"/>\n",
              "  </svg>\n",
              "    </button>\n",
              "\n",
              "  <style>\n",
              "    .colab-df-container {\n",
              "      display:flex;\n",
              "      gap: 12px;\n",
              "    }\n",
              "\n",
              "    .colab-df-convert {\n",
              "      background-color: #E8F0FE;\n",
              "      border: none;\n",
              "      border-radius: 50%;\n",
              "      cursor: pointer;\n",
              "      display: none;\n",
              "      fill: #1967D2;\n",
              "      height: 32px;\n",
              "      padding: 0 0 0 0;\n",
              "      width: 32px;\n",
              "    }\n",
              "\n",
              "    .colab-df-convert:hover {\n",
              "      background-color: #E2EBFA;\n",
              "      box-shadow: 0px 1px 2px rgba(60, 64, 67, 0.3), 0px 1px 3px 1px rgba(60, 64, 67, 0.15);\n",
              "      fill: #174EA6;\n",
              "    }\n",
              "\n",
              "    .colab-df-buttons div {\n",
              "      margin-bottom: 4px;\n",
              "    }\n",
              "\n",
              "    [theme=dark] .colab-df-convert {\n",
              "      background-color: #3B4455;\n",
              "      fill: #D2E3FC;\n",
              "    }\n",
              "\n",
              "    [theme=dark] .colab-df-convert:hover {\n",
              "      background-color: #434B5C;\n",
              "      box-shadow: 0px 1px 3px 1px rgba(0, 0, 0, 0.15);\n",
              "      filter: drop-shadow(0px 1px 2px rgba(0, 0, 0, 0.3));\n",
              "      fill: #FFFFFF;\n",
              "    }\n",
              "  </style>\n",
              "\n",
              "    <script>\n",
              "      const buttonEl =\n",
              "        document.querySelector('#df-ec123843-1912-4543-b8b9-d5929871003f button.colab-df-convert');\n",
              "      buttonEl.style.display =\n",
              "        google.colab.kernel.accessAllowed ? 'block' : 'none';\n",
              "\n",
              "      async function convertToInteractive(key) {\n",
              "        const element = document.querySelector('#df-ec123843-1912-4543-b8b9-d5929871003f');\n",
              "        const dataTable =\n",
              "          await google.colab.kernel.invokeFunction('convertToInteractive',\n",
              "                                                    [key], {});\n",
              "        if (!dataTable) return;\n",
              "\n",
              "        const docLinkHtml = 'Like what you see? Visit the ' +\n",
              "          '<a target=\"_blank\" href=https://colab.research.google.com/notebooks/data_table.ipynb>data table notebook</a>'\n",
              "          + ' to learn more about interactive tables.';\n",
              "        element.innerHTML = '';\n",
              "        dataTable['output_type'] = 'display_data';\n",
              "        await google.colab.output.renderOutput(dataTable, element);\n",
              "        const docLink = document.createElement('div');\n",
              "        docLink.innerHTML = docLinkHtml;\n",
              "        element.appendChild(docLink);\n",
              "      }\n",
              "    </script>\n",
              "  </div>\n",
              "\n",
              "\n",
              "    <div id=\"df-9e1f651b-2c8b-4254-9795-25c6c65467ee\">\n",
              "      <button class=\"colab-df-quickchart\" onclick=\"quickchart('df-9e1f651b-2c8b-4254-9795-25c6c65467ee')\"\n",
              "                title=\"Suggest charts\"\n",
              "                style=\"display:none;\">\n",
              "\n",
              "<svg xmlns=\"http://www.w3.org/2000/svg\" height=\"24px\"viewBox=\"0 0 24 24\"\n",
              "     width=\"24px\">\n",
              "    <g>\n",
              "        <path d=\"M19 3H5c-1.1 0-2 .9-2 2v14c0 1.1.9 2 2 2h14c1.1 0 2-.9 2-2V5c0-1.1-.9-2-2-2zM9 17H7v-7h2v7zm4 0h-2V7h2v10zm4 0h-2v-4h2v4z\"/>\n",
              "    </g>\n",
              "</svg>\n",
              "      </button>\n",
              "\n",
              "<style>\n",
              "  .colab-df-quickchart {\n",
              "      --bg-color: #E8F0FE;\n",
              "      --fill-color: #1967D2;\n",
              "      --hover-bg-color: #E2EBFA;\n",
              "      --hover-fill-color: #174EA6;\n",
              "      --disabled-fill-color: #AAA;\n",
              "      --disabled-bg-color: #DDD;\n",
              "  }\n",
              "\n",
              "  [theme=dark] .colab-df-quickchart {\n",
              "      --bg-color: #3B4455;\n",
              "      --fill-color: #D2E3FC;\n",
              "      --hover-bg-color: #434B5C;\n",
              "      --hover-fill-color: #FFFFFF;\n",
              "      --disabled-bg-color: #3B4455;\n",
              "      --disabled-fill-color: #666;\n",
              "  }\n",
              "\n",
              "  .colab-df-quickchart {\n",
              "    background-color: var(--bg-color);\n",
              "    border: none;\n",
              "    border-radius: 50%;\n",
              "    cursor: pointer;\n",
              "    display: none;\n",
              "    fill: var(--fill-color);\n",
              "    height: 32px;\n",
              "    padding: 0;\n",
              "    width: 32px;\n",
              "  }\n",
              "\n",
              "  .colab-df-quickchart:hover {\n",
              "    background-color: var(--hover-bg-color);\n",
              "    box-shadow: 0 1px 2px rgba(60, 64, 67, 0.3), 0 1px 3px 1px rgba(60, 64, 67, 0.15);\n",
              "    fill: var(--button-hover-fill-color);\n",
              "  }\n",
              "\n",
              "  .colab-df-quickchart-complete:disabled,\n",
              "  .colab-df-quickchart-complete:disabled:hover {\n",
              "    background-color: var(--disabled-bg-color);\n",
              "    fill: var(--disabled-fill-color);\n",
              "    box-shadow: none;\n",
              "  }\n",
              "\n",
              "  .colab-df-spinner {\n",
              "    border: 2px solid var(--fill-color);\n",
              "    border-color: transparent;\n",
              "    border-bottom-color: var(--fill-color);\n",
              "    animation:\n",
              "      spin 1s steps(1) infinite;\n",
              "  }\n",
              "\n",
              "  @keyframes spin {\n",
              "    0% {\n",
              "      border-color: transparent;\n",
              "      border-bottom-color: var(--fill-color);\n",
              "      border-left-color: var(--fill-color);\n",
              "    }\n",
              "    20% {\n",
              "      border-color: transparent;\n",
              "      border-left-color: var(--fill-color);\n",
              "      border-top-color: var(--fill-color);\n",
              "    }\n",
              "    30% {\n",
              "      border-color: transparent;\n",
              "      border-left-color: var(--fill-color);\n",
              "      border-top-color: var(--fill-color);\n",
              "      border-right-color: var(--fill-color);\n",
              "    }\n",
              "    40% {\n",
              "      border-color: transparent;\n",
              "      border-right-color: var(--fill-color);\n",
              "      border-top-color: var(--fill-color);\n",
              "    }\n",
              "    60% {\n",
              "      border-color: transparent;\n",
              "      border-right-color: var(--fill-color);\n",
              "    }\n",
              "    80% {\n",
              "      border-color: transparent;\n",
              "      border-right-color: var(--fill-color);\n",
              "      border-bottom-color: var(--fill-color);\n",
              "    }\n",
              "    90% {\n",
              "      border-color: transparent;\n",
              "      border-bottom-color: var(--fill-color);\n",
              "    }\n",
              "  }\n",
              "</style>\n",
              "\n",
              "      <script>\n",
              "        async function quickchart(key) {\n",
              "          const quickchartButtonEl =\n",
              "            document.querySelector('#' + key + ' button');\n",
              "          quickchartButtonEl.disabled = true;  // To prevent multiple clicks.\n",
              "          quickchartButtonEl.classList.add('colab-df-spinner');\n",
              "          try {\n",
              "            const charts = await google.colab.kernel.invokeFunction(\n",
              "                'suggestCharts', [key], {});\n",
              "          } catch (error) {\n",
              "            console.error('Error during call to suggestCharts:', error);\n",
              "          }\n",
              "          quickchartButtonEl.classList.remove('colab-df-spinner');\n",
              "          quickchartButtonEl.classList.add('colab-df-quickchart-complete');\n",
              "        }\n",
              "        (() => {\n",
              "          let quickchartButtonEl =\n",
              "            document.querySelector('#df-9e1f651b-2c8b-4254-9795-25c6c65467ee button');\n",
              "          quickchartButtonEl.style.display =\n",
              "            google.colab.kernel.accessAllowed ? 'block' : 'none';\n",
              "        })();\n",
              "      </script>\n",
              "    </div>\n",
              "\n",
              "    </div>\n",
              "  </div>\n"
            ],
            "application/vnd.google.colaboratory.intrinsic+json": {
              "type": "dataframe",
              "summary": "{\n  \"name\": \"df\",\n  \"rows\": 7,\n  \"fields\": [\n    {\n      \"column\": \"count\",\n      \"properties\": {\n        \"dtype\": \"number\",\n        \"std\": 0.0,\n        \"min\": 6435.0,\n        \"max\": 6435.0,\n        \"num_unique_values\": 1,\n        \"samples\": [\n          6435.0\n        ],\n        \"semantic_type\": \"\",\n        \"description\": \"\"\n      }\n    },\n    {\n      \"column\": \"mean\",\n      \"properties\": {\n        \"dtype\": \"number\",\n        \"std\": 395698.73419042025,\n        \"min\": 0.06993006993006994,\n        \"max\": 1046964.8775617715,\n        \"num_unique_values\": 7,\n        \"samples\": [\n          23.0\n        ],\n        \"semantic_type\": \"\",\n        \"description\": \"\"\n      }\n    },\n    {\n      \"column\": \"std\",\n      \"properties\": {\n        \"dtype\": \"number\",\n        \"std\": 213305.91085164773,\n        \"min\": 0.25504894436981873,\n        \"max\": 564366.6220536974,\n        \"num_unique_values\": 7,\n        \"samples\": [\n          12.988182381175474\n        ],\n        \"semantic_type\": \"\",\n        \"description\": \"\"\n      }\n    },\n    {\n      \"column\": \"min\",\n      \"properties\": {\n        \"dtype\": \"number\",\n        \"std\": 79359.08142923069,\n        \"min\": -2.06,\n        \"max\": 209986.25,\n        \"num_unique_values\": 7,\n        \"samples\": [\n          1.0\n        ],\n        \"semantic_type\": \"\",\n        \"description\": \"\"\n      }\n    },\n    {\n      \"column\": \"25%\",\n      \"properties\": {\n        \"dtype\": \"number\",\n        \"std\": 209134.02302792438,\n        \"min\": 0.0,\n        \"max\": 553350.105,\n        \"num_unique_values\": 7,\n        \"samples\": [\n          12.0\n        ],\n        \"semantic_type\": \"\",\n        \"description\": \"\"\n      }\n    },\n    {\n      \"column\": \"50%\",\n      \"properties\": {\n        \"dtype\": \"number\",\n        \"std\": 363110.26291498664,\n        \"min\": 0.0,\n        \"max\": 960746.04,\n        \"num_unique_values\": 7,\n        \"samples\": [\n          23.0\n        ],\n        \"semantic_type\": \"\",\n        \"description\": \"\"\n      }\n    },\n    {\n      \"column\": \"75%\",\n      \"properties\": {\n        \"dtype\": \"number\",\n        \"std\": 536748.4821604285,\n        \"min\": 0.0,\n        \"max\": 1420158.66,\n        \"num_unique_values\": 7,\n        \"samples\": [\n          34.0\n        ],\n        \"semantic_type\": \"\",\n        \"description\": \"\"\n      }\n    },\n    {\n      \"column\": \"max\",\n      \"properties\": {\n        \"dtype\": \"number\",\n        \"std\": 1443303.1105042768,\n        \"min\": 1.0,\n        \"max\": 3818686.45,\n        \"num_unique_values\": 7,\n        \"samples\": [\n          45.0\n        ],\n        \"semantic_type\": \"\",\n        \"description\": \"\"\n      }\n    }\n  ]\n}"
            }
          },
          "metadata": {},
          "execution_count": 4
        }
      ]
    },
    {
      "cell_type": "code",
      "source": [
        "df.info()"
      ],
      "metadata": {
        "colab": {
          "base_uri": "https://localhost:8080/"
        },
        "id": "k8qk9zwtiY2z",
        "outputId": "bdf7a632-3de3-403d-8e47-6189df4c51c9"
      },
      "execution_count": 7,
      "outputs": [
        {
          "output_type": "stream",
          "name": "stdout",
          "text": [
            "<class 'pandas.core.frame.DataFrame'>\n",
            "RangeIndex: 6435 entries, 0 to 6434\n",
            "Data columns (total 8 columns):\n",
            " #   Column        Non-Null Count  Dtype  \n",
            "---  ------        --------------  -----  \n",
            " 0   Store         6435 non-null   int64  \n",
            " 1   Date          6435 non-null   object \n",
            " 2   Weekly_Sales  6435 non-null   float64\n",
            " 3   Holiday_Flag  6435 non-null   int64  \n",
            " 4   Temperature   6435 non-null   float64\n",
            " 5   Fuel_Price    6435 non-null   float64\n",
            " 6   CPI           6435 non-null   float64\n",
            " 7   Unemployment  6435 non-null   float64\n",
            "dtypes: float64(5), int64(2), object(1)\n",
            "memory usage: 402.3+ KB\n"
          ]
        }
      ]
    },
    {
      "cell_type": "code",
      "source": [
        "# Features we want to use\n",
        "features = ['Fuel_Price', 'Temperature', 'CPI', 'Unemployment', 'Holiday_Flag']\n",
        "\n",
        "# X = feature matrix\n",
        "X = df[features].values\n",
        "\n",
        "# y = target vector\n",
        "y = df[['Weekly_Sales']].values\n",
        "\n",
        "scaler_X = StandardScaler()\n",
        "scaler_y = StandardScaler()\n",
        "\n",
        "X_scaled = scaler_X.fit_transform(X)\n",
        "y_scaled = scaler_y.fit_transform(y)\n"
      ],
      "metadata": {
        "id": "hjTlpqJriY46"
      },
      "execution_count": 12,
      "outputs": []
    },
    {
      "cell_type": "code",
      "source": [
        "X_trainN, X_testN, y_trainN, y_testN = train_test_split(\n",
        "    X_scaled, y_scaled, test_size=0.3, random_state=42)\n",
        "\n",
        "X_train = torch.tensor(X_trainN, dtype=torch.float32)\n",
        "y_train = torch.tensor(y_trainN, dtype=torch.float32)\n",
        "X_test = torch.tensor(X_testN, dtype=torch.float32)\n",
        "y_test = torch.tensor(y_testN, dtype=torch.float32)"
      ],
      "metadata": {
        "id": "tUZnpwCciY69"
      },
      "execution_count": 17,
      "outputs": []
    },
    {
      "cell_type": "code",
      "source": [
        "n_features = X_train.shape[1]  # number of features\n",
        "model = nn.Linear(n_features, 1)"
      ],
      "metadata": {
        "id": "QIXB0mH4iY-W"
      },
      "execution_count": 18,
      "outputs": []
    },
    {
      "cell_type": "code",
      "source": [
        "model=nn.Linear(n_features, 1)\n",
        "\n",
        "lr=0.5\n",
        "n_epoch=1000\n",
        "\n",
        "lossfunc=nn.MSELoss()\n",
        "optimizer=torch.optim.SGD(model.parameters(), lr=lr)\n",
        "train_loss=[]\n",
        "test_loss=[]\n",
        "\n",
        "\n",
        "for epoch in range(n_epoch):\n",
        "    y_pred=model(X_train)\n",
        "    loss=lossfunc(y_train, y_pred)\n",
        "    loss.backward()\n",
        "    train_loss.append(loss.item())\n",
        "    optimizer.step()\n",
        "    optimizer.zero_grad()\n",
        "\n",
        "    [w,b]=model.parameters()\n",
        "\n",
        "    with torch.inference_mode():\n",
        "        y_test_pred=model(X_test)\n",
        "        lost_test=lossfunc(y_test, y_test_pred)\n",
        "        test_loss.append(lost_test)\n"
      ],
      "metadata": {
        "id": "5K_A90hgkgWL"
      },
      "execution_count": 19,
      "outputs": []
    },
    {
      "cell_type": "code",
      "source": [
        "fig=plt.figure()\n",
        "xv=np.arange(1, n_epoch,1)\n",
        "plt.plot(xv,train_loss[1:], 'r', label=\"Train Loss\")\n",
        "plt.plot(xv,test_loss[:-1], 'b', label=\"Test Loss\")\n",
        "plt.xlabel(\"Epoch\")\n",
        "plt.ylabel(\"Loss\")\n",
        "plt.legend()\n",
        "plt.grid()\n",
        "fig.show()"
      ],
      "metadata": {
        "colab": {
          "base_uri": "https://localhost:8080/",
          "height": 449
        },
        "id": "tqSaZ4-GkgYX",
        "outputId": "7e05d635-b41f-40f0-eac3-97df42b5b2c9"
      },
      "execution_count": 20,
      "outputs": [
        {
          "output_type": "display_data",
          "data": {
            "text/plain": [
              "<Figure size 640x480 with 1 Axes>"
            ],
            "image/png": "[encoded data removed]"
          },
          "metadata": {}
        }
      ]
    },
    {
      "cell_type": "code",
      "source": [
        "with torch.inference_mode():\n",
        "    y_test_pred=model(X_test)\n",
        "print('Coefficient of determination: %.2f' % r2_score(y_test, y_test_pred))"
      ],
      "metadata": {
        "colab": {
          "base_uri": "https://localhost:8080/"
        },
        "id": "QhVloYkpkgby",
        "outputId": "9139d27e-9ddd-4024-846a-ebd9152e6d73"
      },
      "execution_count": 21,
      "outputs": [
        {
          "output_type": "stream",
          "name": "stdout",
          "text": [
            "Coefficient of determination: 0.02\n"
          ]
        }
      ]
    },
    {
      "cell_type": "code",
      "source": [
        "features = ['Fuel_Price', 'Temperature', 'CPI', 'Unemployment', 'Holiday_Flag']\n",
        "X = df[features].values\n",
        "y = df[['Weekly_Sales']].values\n",
        "\n",
        "# Scale\n",
        "scaler_X = StandardScaler()\n",
        "scaler_y = StandardScaler()\n",
        "X_scaled = scaler_X.fit_transform(X)\n",
        "y_scaled = scaler_y.fit_transform(y)\n",
        "\n",
        "# Train-test split\n",
        "X_trainN, X_testN, y_trainN, y_testN = train_test_split(X_scaled, y_scaled, test_size=0.3, random_state=42)\n",
        "\n",
        "# Tensors\n",
        "X_train = torch.tensor(X_trainN, dtype=torch.float32)\n",
        "y_train = torch.tensor(y_trainN, dtype=torch.float32)\n",
        "X_test = torch.tensor(X_testN, dtype=torch.float32)\n",
        "y_test = torch.tensor(y_testN, dtype=torch.float32)\n",
        "\n",
        "n_features = X_train.shape[1]\n",
        "model = nn.Linear(n_features, 1)\n",
        "\n",
        "# ------------------------\n",
        "# Training setup\n",
        "# ------------------------\n",
        "lr = 0.01\n",
        "n_epoch = 1000\n",
        "lossfunc = nn.MSELoss()\n",
        "optimizer = torch.optim.SGD(model.parameters(), lr=lr)\n",
        "train_loss = []\n",
        "test_loss = []\n",
        "\n",
        "# ------------------------\n",
        "# Training loop\n",
        "# ------------------------\n",
        "for epoch in range(n_epoch):\n",
        "    # Forward + backward on training set\n",
        "    y_pred = model(X_train)\n",
        "    loss = lossfunc(y_train, y_pred)\n",
        "    loss.backward()\n",
        "    optimizer.step()\n",
        "    optimizer.zero_grad()\n",
        "    train_loss.append(loss.item())\n",
        "\n",
        "    # Evaluate on test set\n",
        "    with torch.inference_mode():\n",
        "        y_test_pred = model(X_test)\n",
        "        loss_test = lossfunc(y_test, y_test_pred)\n",
        "        test_loss.append(loss_test.item())\n",
        "\n",
        "    if (epoch+1) % 100 == 0:\n",
        "        print(f\"Epoch {epoch+1}: Train Loss={loss.item():.6f}, Test Loss={loss_test.item():.6f}\")\n",
        "\n"
      ],
      "metadata": {
        "colab": {
          "base_uri": "https://localhost:8080/"
        },
        "id": "PI3oc5hLrqj4",
        "outputId": "a37880f0-d628-4514-9713-87f6436b1dd6"
      },
      "execution_count": 34,
      "outputs": [
        {
          "output_type": "stream",
          "name": "stdout",
          "text": [
            "Epoch 100: Train Loss=0.987434, Test Loss=1.003089\n",
            "Epoch 200: Train Loss=0.971279, Test Loss=0.985448\n",
            "Epoch 300: Train Loss=0.970329, Test Loss=0.985225\n",
            "Epoch 400: Train Loss=0.970227, Test Loss=0.985578\n",
            "Epoch 500: Train Loss=0.970214, Test Loss=0.985757\n",
            "Epoch 600: Train Loss=0.970213, Test Loss=0.985828\n",
            "Epoch 700: Train Loss=0.970212, Test Loss=0.985854\n",
            "Epoch 800: Train Loss=0.970212, Test Loss=0.985864\n",
            "Epoch 900: Train Loss=0.970213, Test Loss=0.985867\n",
            "Epoch 1000: Train Loss=0.970212, Test Loss=0.985868\n"
          ]
        }
      ]
    },
    {
      "cell_type": "code",
      "source": [
        "\n",
        "# Plot Train vs Test Loss\n",
        "\n",
        "plt.figure(figsize=(8,5))\n",
        "xv = np.arange(1, n_epoch+1)\n",
        "plt.plot(xv, train_loss, 'r', label='Train Loss')\n",
        "plt.plot(xv, test_loss, 'b', label='Test Loss')\n",
        "plt.xlabel('Epoch')\n",
        "plt.ylabel('MSE Loss')\n",
        "plt.title('Training vs Test Loss')\n",
        "plt.legend()\n",
        "plt.grid(True)\n",
        "plt.show()"
      ],
      "metadata": {
        "colab": {
          "base_uri": "https://localhost:8080/",
          "height": 487
        },
        "id": "QH9XaP40rqnV",
        "outputId": "3831a9e9-b1c8-4ec0-c775-58c93c9e7b40"
      },
      "execution_count": 35,
      "outputs": [
        {
          "output_type": "display_data",
          "data": {
            "text/plain": [
              "<Figure size 800x500 with 1 Axes>"
            ],
            "image/png": "[encoded data removed]"
          },
          "metadata": {}
        }
      ]
    },
    {
      "cell_type": "code",
      "source": [
        "with torch.inference_mode():\n",
        "    y_test_pred=model(X_test)\n",
        "print('Coefficient of determination: %.2f' % r2_score(y_test, y_test_pred))"
      ],
      "metadata": {
        "colab": {
          "base_uri": "https://localhost:8080/"
        },
        "id": "0vDFXb12rbWb",
        "outputId": "555464b3-1c2e-4cb6-ff7b-d90195079dde"
      },
      "execution_count": 36,
      "outputs": [
        {
          "output_type": "stream",
          "name": "stdout",
          "text": [
            "Coefficient of determination: 0.02\n"
          ]
        }
      ]
    },
    {
      "cell_type": "markdown",
      "source": [
        "Polynomial regression"
      ],
      "metadata": {
        "id": "qpS7je0aml9T"
      }
    },
    {
      "cell_type": "code",
      "source": [
        "features = ['Fuel_Price', 'Temperature', 'CPI', 'Unemployment', 'Holiday_Flag']\n",
        "X = df[features].values\n",
        "y = df['Weekly_Sales'].values\n",
        "\n"
      ],
      "metadata": {
        "id": "v9UpO26rmkcI"
      },
      "execution_count": 23,
      "outputs": []
    },
    {
      "cell_type": "code",
      "source": [
        "X_train, X_test, y_train, y_test = train_test_split(\n",
        "    X, y, test_size=0.3, random_state=42)"
      ],
      "metadata": {
        "id": "V7mMUr4hmkfo"
      },
      "execution_count": 25,
      "outputs": []
    },
    {
      "cell_type": "code",
      "source": [
        "degree = 3 # you can try 2 or 3\n",
        "poly = PolynomialFeatures(degree=degree, include_bias=False)\n",
        "\n",
        "X_train_poly = poly.fit_transform(X_train)\n",
        "X_test_poly = poly.transform(X_test)"
      ],
      "metadata": {
        "id": "Ox-3wndRmki2"
      },
      "execution_count": 29,
      "outputs": []
    },
    {
      "cell_type": "code",
      "source": [
        "model = LinearRegression()\n",
        "model.fit(X_train_poly, y_train)\n",
        "\n",
        "y_pred = model.predict(X_test_poly)\n",
        "\n",
        "# Evaluate\n",
        "r2 = r2_score(y_test, y_pred)\n",
        "rmse = np.sqrt(mean_squared_error(y_test, y_pred))\n",
        "\n",
        "print(f\"Polynomial Regression (degree={degree})\")\n",
        "print(f\"R²: {r2:.3f}, Test RMSE: {rmse:.2f}\")"
      ],
      "metadata": {
        "colab": {
          "base_uri": "https://localhost:8080/"
        },
        "id": "d6g7aPxlmklV",
        "outputId": "1ebed071-707d-475a-9acb-3431a87e27bf"
      },
      "execution_count": 30,
      "outputs": [
        {
          "output_type": "stream",
          "name": "stdout",
          "text": [
            "Polynomial Regression (degree=3)\n",
            "R²: 0.088, Test RMSE: 539972.34\n"
          ]
        }
      ]
    },
    {
      "cell_type": "code",
      "source": [
        "plt.figure(figsize=(8,5))\n",
        "plt.scatter(y_test, y_pred, alpha=0.5)\n",
        "plt.plot([y_test.min(), y_test.max()], [y_test.min(), y_test.max()], 'r--')\n",
        "plt.xlabel(\"Actual Weekly Sales\")\n",
        "plt.ylabel(\"Predicted Weekly Sales\")\n",
        "plt.title(\"Polynomial Regression Predictions vs Actual\")\n",
        "plt.grid(True)\n",
        "plt.show()"
      ],
      "metadata": {
        "colab": {
          "base_uri": "https://localhost:8080/",
          "height": 487
        },
        "id": "Ph-qZGTOmkn3",
        "outputId": "42148663-aa84-4ee7-b574-fd0610d81acb"
      },
      "execution_count": 31,
      "outputs": [
        {
          "output_type": "display_data",
          "data": {
            "text/plain": [
              "<Figure size 800x500 with 1 Axes>"
            ],
            "image/png": "[encoded data removed]"
          },
          "metadata": {}
        }
      ]
    },
    {
      "cell_type": "code",
      "source": [],
      "metadata": {
        "id": "ZJliIjlkmkqM"
      },
      "execution_count": null,
      "outputs": []
    },
    {
      "cell_type": "code",
      "source": [],
      "metadata": {
        "id": "-9BqSuZamksr"
      },
      "execution_count": null,
      "outputs": []
    },
    {
      "cell_type": "code",
      "source": [],
      "metadata": {
        "id": "dJqWuRQ0mkvM"
      },
      "execution_count": null,
      "outputs": []
    },
    {
      "cell_type": "code",
      "source": [],
      "metadata": {
        "id": "wAYRoVIxmkyu"
      },
      "execution_count": null,
      "outputs": []
    },
    {
      "cell_type": "code",
      "source": [
        "regr = LinearRegression()\n",
        "regr.fit(X_train, y_train)\n",
        "pred = regr.predict(X_test)\n",
        "\n",
        "print('Coefficient of determination: %.2f' % r2_score(y_test, pred))"
      ],
      "metadata": {
        "colab": {
          "base_uri": "https://localhost:8080/"
        },
        "id": "uOkXsaHr1y9C",
        "outputId": "59f80f1c-4b82-4bda-d258-293cccd3fb57"
      },
      "execution_count": 14,
      "outputs": [
        {
          "output_type": "stream",
          "name": "stdout",
          "text": [
            "Coefficient of determination: 0.02\n"
          ]
        }
      ]
    },
    {
      "cell_type": "code",
      "source": [
        "# Add week\n",
        "df['Date'] = pd.to_datetime(df['Date'], dayfirst=True)\n",
        "df['Week'] = df['Date'].dt.isocalendar().week\n",
        "\n",
        "# Include Store as categorical (one-hot)\n",
        "features = ['Fuel_Price', 'Temperature', 'CPI', 'Unemployment', 'Holiday_Flag', 'Week']\n",
        "df_encoded = pd.get_dummies(df[features + ['Store']], columns=['Store'], drop_first=True)\n",
        "\n",
        "X = df_encoded.values\n",
        "y = df[['Weekly_Sales']].values\n"
      ],
      "metadata": {
        "id": "JT7z0OH39aGO"
      },
      "execution_count": 37,
      "outputs": []
    },
    {
      "cell_type": "code",
      "source": [
        "\n",
        "# Scale\n",
        "scaler_X = StandardScaler()\n",
        "scaler_y = StandardScaler()\n",
        "X_scaled = scaler_X.fit_transform(X)\n",
        "y_scaled = scaler_y.fit_transform(y)\n",
        "\n",
        "# Split\n",
        "X_trainN, X_testN, y_trainN, y_testN = train_test_split(X_scaled, y_scaled, test_size=0.3, random_state=42)\n",
        "\n",
        "# Tensors\n",
        "X_train = torch.tensor(X_trainN, dtype=torch.float32)\n",
        "y_train = torch.tensor(y_trainN, dtype=torch.float32)\n",
        "X_test = torch.tensor(X_testN, dtype=torch.float32)\n",
        "y_test = torch.tensor(y_testN, dtype=torch.float32)\n"
      ],
      "metadata": {
        "id": "YB7KEkAA9aUA"
      },
      "execution_count": 38,
      "outputs": []
    },
    {
      "cell_type": "code",
      "source": [
        "n_features = X_train.shape[1]\n",
        "model = nn.Linear(n_features, 1)\n",
        "\n",
        "lr = 0.01\n",
        "n_epoch = 1000\n",
        "lossfunc = nn.MSELoss()\n",
        "optimizer = torch.optim.SGD(model.parameters(), lr=lr)\n",
        "train_loss = []\n",
        "test_loss = []\n",
        "\n",
        "for epoch in range(n_epoch):\n",
        "    y_pred = model(X_train)\n",
        "    loss = lossfunc(y_train, y_pred)\n",
        "    loss.backward()\n",
        "    optimizer.step()\n",
        "    optimizer.zero_grad()\n",
        "    train_loss.append(loss.item())\n",
        "\n",
        "    with torch.inference_mode():\n",
        "        y_test_pred = model(X_test)\n",
        "        loss_test = lossfunc(y_test, y_test_pred)\n",
        "        test_loss.append(loss_test.item())\n",
        "\n",
        "    if (epoch+1) % 100 == 0:\n",
        "        print(f\"Epoch {epoch+1}: Train Loss={loss.item():.6f}, Test Loss={loss_test.item():.6f}\")\n"
      ],
      "metadata": {
        "colab": {
          "base_uri": "https://localhost:8080/"
        },
        "id": "Emw6CHUr9akM",
        "outputId": "60ca660b-d4f6-4884-f253-7d56a51206a5"
      },
      "execution_count": 39,
      "outputs": [
        {
          "output_type": "stream",
          "name": "stdout",
          "text": [
            "Epoch 100: Train Loss=0.116336, Test Loss=0.128099\n",
            "Epoch 200: Train Loss=0.088289, Test Loss=0.100405\n",
            "Epoch 300: Train Loss=0.085651, Test Loss=0.097423\n",
            "Epoch 400: Train Loss=0.083782, Test Loss=0.095121\n",
            "Epoch 500: Train Loss=0.082179, Test Loss=0.093115\n",
            "Epoch 600: Train Loss=0.080792, Test Loss=0.091371\n",
            "Epoch 700: Train Loss=0.079592, Test Loss=0.089857\n",
            "Epoch 800: Train Loss=0.078552, Test Loss=0.088543\n",
            "Epoch 900: Train Loss=0.077652, Test Loss=0.087404\n",
            "Epoch 1000: Train Loss=0.076872, Test Loss=0.086415\n"
          ]
        }
      ]
    },
    {
      "cell_type": "code",
      "source": [
        "\n"
      ],
      "metadata": {
        "id": "0-IoDswc9zOx"
      },
      "execution_count": null,
      "outputs": []
    },
    {
      "cell_type": "code",
      "source": [
        "\n",
        "with torch.inference_mode():\n",
        "    y_test_pred_scaled = model(X_test)\n",
        "    y_test_pred_orig = scaler_y.inverse_transform(y_test_pred_scaled.numpy())\n",
        "\n",
        "r2 = r2_score(y_test, y_test_pred_scaled.numpy())\n",
        "print(f\"R² on test set (scaled): {r2:.3f}\")\n"
      ],
      "metadata": {
        "colab": {
          "base_uri": "https://localhost:8080/"
        },
        "id": "dIkw9V1b9ay9",
        "outputId": "0f516ecf-7698-4665-f3ac-7878fc2a7da4"
      },
      "execution_count": 40,
      "outputs": [
        {
          "output_type": "stream",
          "name": "stdout",
          "text": [
            "R² on test set (scaled): 0.914\n"
          ]
        }
      ]
    },
    {
      "cell_type": "code",
      "source": [
        "\n",
        "\n",
        "# ----------- Select a single store----------------\n",
        "\n",
        "store_id = 1  # you can change to 2,3,... depending on your data\n",
        "subset = df[df['Store'] == store_id]\n",
        "\n",
        "X = subset['Fuel_Price'].values.reshape(-1,1)\n",
        "y = subset['Weekly_Sales'].values\n",
        "\n",
        "# Scale the feature for stability\n",
        "scaler = StandardScaler()\n",
        "X_scaled = scaler.fit_transform(X)\n",
        "\n",
        "# ----------------------- Polynomial transformation----------------------\n",
        "degree = 3\n",
        "poly = PolynomialFeatures(degree)\n",
        "X_poly = poly.fit_transform(X_scaled)\n",
        "\n",
        "# -------------------- Fit model---------------------\n",
        "model = LinearRegression()\n",
        "model.fit(X_poly, y)\n",
        "\n",
        "# ------------------------ Predict for plotting------------------\n",
        "\n",
        "X_fit = np.linspace(X_scaled.min(), X_scaled.max(), 100).reshape(-1,1)\n",
        "X_fit_poly = poly.transform(X_fit)\n",
        "y_fit = model.predict(X_fit_poly)\n",
        "\n",
        "\n"
      ],
      "metadata": {
        "id": "cpatQFBa51uC"
      },
      "execution_count": 32,
      "outputs": []
    },
    {
      "cell_type": "code",
      "source": [],
      "metadata": {
        "id": "frKiWNk57ZgB"
      },
      "execution_count": null,
      "outputs": []
    },
    {
      "cell_type": "code",
      "source": [],
      "metadata": {
        "id": "d5BP16aI7ZWr"
      },
      "execution_count": null,
      "outputs": []
    },
    {
      "cell_type": "code",
      "source": [
        "# ------------------------ Plot---------------------\n",
        "plt.figure(figsize=(8,6))\n",
        "plt.scatter(X_scaled, y, color='blue', alpha=0.5, label='Data')\n",
        "plt.plot(X_fit, y_fit, color='red', linewidth=2, label=f'Polynomial Degree {degree}')\n",
        "plt.xlabel('Fuel Price (scaled)')\n",
        "plt.ylabel('Weekly Sales')\n",
        "plt.title(f'Store {store_id}: Polynomial Regression of Weekly Sales vs Fuel Price')\n",
        "plt.legend()\n",
        "plt.grid(True)\n",
        "plt.show()"
      ],
      "metadata": {
        "colab": {
          "base_uri": "https://localhost:8080/",
          "height": 564
        },
        "id": "rVCJSkUa6ryT",
        "outputId": "73c43d18-da74-4f00-ee58-49d54162c48f"
      },
      "execution_count": 33,
      "outputs": [
        {
          "output_type": "display_data",
          "data": {
            "text/plain": [
              "<Figure size 800x600 with 1 Axes>"
            ],
            "image/png": "[encoded data removed]"
          },
          "metadata": {}
        }
      ]
    },
    {
      "cell_type": "code",
      "source": [],
      "metadata": {
        "id": "ubj9a9kM7a7U"
      },
      "execution_count": null,
      "outputs": []
    }
  ]
}